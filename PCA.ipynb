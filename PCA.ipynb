{
  "nbformat": 4,
  "nbformat_minor": 0,
  "metadata": {
    "colab": {
      "provenance": [],
      "authorship_tag": "ABX9TyN87QRfaHcv13cXLFUk0Qu2",
      "include_colab_link": true
    },
    "kernelspec": {
      "name": "python3",
      "display_name": "Python 3"
    },
    "language_info": {
      "name": "python"
    }
  },
  "cells": [
    {
      "cell_type": "markdown",
      "metadata": {
        "id": "view-in-github",
        "colab_type": "text"
      },
      "source": [
        "<a href=\"https://colab.research.google.com/github/Shiyasalloor/PYTHON-LABCYCLE/blob/main/PCA.ipynb\" target=\"_parent\"><img src=\"https://colab.research.google.com/assets/colab-badge.svg\" alt=\"Open In Colab\"/></a>"
      ]
    },
    {
      "cell_type": "code",
      "execution_count": null,
      "metadata": {
        "colab": {
          "base_uri": "https://localhost:8080/"
        },
        "id": "4__eN1z1IEgn",
        "outputId": "df0a9511-d324-48af-9f43-a391fd2ee43d"
      },
      "outputs": [
        {
          "output_type": "stream",
          "name": "stdout",
          "text": [
            "Original Data Shape: (10, 2)\n",
            "Covariance Matrix:\n",
            " [[1.11111111 1.0288103 ]\n",
            " [1.0288103  1.11111111]]\n",
            "Eigenvalues: [2.13992141 0.08230081]\n",
            "Eigenvectors:\n",
            " [[ 0.70710678 -0.70710678]\n",
            " [ 0.70710678  0.70710678]]\n",
            "Reduced Data Shape: (10, 2)\n",
            "Reduced Data:\n",
            " [[ 1.08643242 -0.22352364]\n",
            " [-2.3089372   0.17808082]\n",
            " [ 1.24191895  0.501509  ]\n",
            " [ 0.34078247  0.16991864]\n",
            " [ 2.18429003 -0.26475825]\n",
            " [ 1.16073946  0.23048082]\n",
            " [-0.09260467 -0.45331721]\n",
            " [-1.48210777  0.05566672]\n",
            " [-0.56722643  0.02130455]\n",
            " [-1.56328726 -0.21536146]]\n",
            "\n",
            "Reduced DataFrame:\n",
            "        PC1       PC2\n",
            "0  1.086432 -0.223524\n",
            "1 -2.308937  0.178081\n",
            "2  1.241919  0.501509\n",
            "3  0.340782  0.169919\n",
            "4  2.184290 -0.264758\n",
            "5  1.160739  0.230481\n",
            "6 -0.092605 -0.453317\n",
            "7 -1.482108  0.055667\n",
            "8 -0.567226  0.021305\n",
            "9 -1.563287 -0.215361\n"
          ]
        }
      ],
      "source": [
        "import numpy as np\n",
        "import pandas as pd\n",
        "\n",
        "data = np.array([[2.5, 2.4],\n",
        "                 [0.5, 0.7],\n",
        "                 [2.2, 2.9],\n",
        "                 [1.9, 2.2],\n",
        "                 [3.1, 3.0],\n",
        "                 [2.3, 2.7],\n",
        "                 [2, 1.6],\n",
        "                 [1, 1.1],\n",
        "                 [1.5, 1.6],\n",
        "                 [1.1, 0.9]])\n",
        "\n",
        "mean = np.mean(data, axis=0)\n",
        "std = np.std(data, axis=0)\n",
        "data_standardized = (data - mean) / std\n",
        "\n",
        "cov_matrix = np.cov(data_standardized, rowvar=False)\n",
        "\n",
        "eigenvalues, eigenvectors = np.linalg.eig(cov_matrix)\n",
        "\n",
        "sorted_indices = np.argsort(eigenvalues)[::-1]\n",
        "eigenvalues = eigenvalues[sorted_indices]\n",
        "eigenvectors = eigenvectors[:, sorted_indices]\n",
        "\n",
        "n_components = 2\n",
        "top_eigenvectors = eigenvectors[:, :n_components]\n",
        "\n",
        "data_reduced = np.dot(data_standardized, top_eigenvectors)\n",
        "\n",
        "print(\"Original Data Shape:\", data.shape)\n",
        "print(\"Covariance Matrix:\\n\", cov_matrix)\n",
        "print(\"Eigenvalues:\", eigenvalues)\n",
        "print(\"Eigenvectors:\\n\", eigenvectors)\n",
        "print(\"Reduced Data Shape:\", data_reduced.shape)\n",
        "print(\"Reduced Data:\\n\", data_reduced)\n",
        "\n",
        "df_reduced = pd.DataFrame(data_reduced, columns=[f\"PC{i+1}\" for i in range(n_components)])\n",
        "print(\"\\nReduced DataFrame:\")\n",
        "print(df_reduced)\n"
      ]
    }
  ]
}